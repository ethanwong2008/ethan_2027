{
 "cells": [
  {
   "cell_type": "code",
   "execution_count": null,
   "metadata": {},
   "outputs": [],
   "source": [
    "---\n",
    "comments: True\n",
    "layout: post \n",
    "title: Data Abstraction Hacks\n",
    "description: An intro to data abstraction\n",
    "permalink: /csse/javascript/fundamentals/data-abstraction-hacks\n",
    "type: ccc\n",
    "author: Veera Kalakota, Santhosh Karthik, Akhil Kulkarni\n",
    "---"
   ]
  },
  {
   "cell_type": "markdown",
   "metadata": {},
   "source": [
    "# Popcorn Hack #1\n",
    "Create a child class of the class **Appliance**, and call it's name() function"
   ]
  },
  {
   "cell_type": "code",
   "execution_count": 10,
   "metadata": {
    "vscode": {
     "languageId": "javascript"
    }
   },
   "outputs": [
    {
     "data": {
      "application/javascript": "\nclass Appliance {\n    constructor(name) {\n        this.name = name;\n    }\n    getName() {\n        return \"I am a \" + this.constructor.name + \" and my model is \" + this.name;\n    }\n}\n\n// Below this, name the class and cause it to inherit from the Appliance class\nclass washingmachine extends Appliance {\n    constructor(name) {\n        super(name); // Call the parent constructor\n    }\n}\n\n// Create an instance of the child class and call the name() function\nconst mywashingmachine = new washingmachine(\"Dyson 2000\");\nconsole.log(mywashingmachine.getName());\n",
      "text/plain": [
       "<IPython.core.display.Javascript object>"
      ]
     },
     "metadata": {},
     "output_type": "display_data"
    }
   ],
   "source": [
    "%%js\n",
    "\n",
    "class Appliance {\n",
    "    constructor(name) {\n",
    "        this.name = name;\n",
    "    }\n",
    "    getName() {\n",
    "        return \"I am a \" + this.constructor.name + \" and my model is \" + this.name;\n",
    "    }\n",
    "}\n",
    "\n",
    "// Below this, name the class and cause it to inherit from the Appliance class\n",
    "class washingmachine extends Appliance {\n",
    "    constructor(name) {\n",
    "        super(name); // Call the parent constructor\n",
    "    }\n",
    "}\n",
    "\n",
    "// Create an instance of the child class and call the name() function\n",
    "const mywashingmachine = new washingmachine(\"Dyson 2000\");\n",
    "console.log(mywashingmachine.getName());\n"
   ]
  },
  {
   "cell_type": "markdown",
   "metadata": {},
   "source": [
    "### Popcorn Hack #2\n",
    "Create child classes of the product class with items, and add parameters depending on what it is. An example is provided of a bagel."
   ]
  },
  {
   "cell_type": "code",
   "execution_count": 16,
   "metadata": {
    "vscode": {
     "languageId": "javascript"
    }
   },
   "outputs": [
    {
     "data": {
      "application/javascript": "\nclass Product {\n    constructor(price, size, taxRate) {\n        this.price = price;\n        this.size = size;\n        this.taxRate = taxRate;\n    }\n\n    getPrice() {\n        return this.price + this.taxRate * this.price;\n    }\n\n    product() {\n        const className = this.constructor.name.toLowerCase();\n        return \"You are ordering a \" + className + \" with a price of \" + this.getPrice() + \" dollars, a size of \" + this.size;\n    }\n}\n\n// T-shirt class\nclass TShirt extends Product {\n    constructor(price, size, taxRate, color) {\n        super(price, size, taxRate);\n        this.color = color;\n    }\n\n    getPrice() {\n        return super.getPrice();  // Price remains the same for T-shirt\n    }\n\n    product() {\n        return super.product() + \" and a color of \" + this.color;\n    }\n}\n\n// Example T-shirt product\nvar redTShirt = new TShirt(10, 1, 0.05, \"red\");\nconsole.log(redTShirt.product());\n",
      "text/plain": [
       "<IPython.core.display.Javascript object>"
      ]
     },
     "metadata": {},
     "output_type": "display_data"
    }
   ],
   "source": [
    "%%js\n",
    "\n",
    "class Product {\n",
    "    constructor(price, size, taxRate) {\n",
    "        this.price = price;\n",
    "        this.size = size;\n",
    "        this.taxRate = taxRate;\n",
    "    }\n",
    "\n",
    "    getPrice() {\n",
    "        return this.price + this.taxRate * this.price;\n",
    "    }\n",
    "\n",
    "    product() {\n",
    "        const className = this.constructor.name.toLowerCase();\n",
    "        return \"You are ordering a \" + className + \" with a price of \" + this.getPrice() + \" dollars, a size of \" + this.size;\n",
    "    }\n",
    "}\n",
    "\n",
    "// T-shirt class\n",
    "class TShirt extends Product {\n",
    "    constructor(price, size, taxRate, color) {\n",
    "        super(price, size, taxRate);\n",
    "        this.color = color;\n",
    "    }\n",
    "\n",
    "    getPrice() {\n",
    "        return super.getPrice();  // Price remains the same for T-shirt\n",
    "    }\n",
    "\n",
    "    product() {\n",
    "        return super.product() + \" and a color of \" + this.color;\n",
    "    }\n",
    "}\n",
    "\n",
    "// Example T-shirt product\n",
    "var redTShirt = new TShirt(10, 1, 0.05, \"red\");\n",
    "console.log(redTShirt.product());\n"
   ]
  },
  {
   "cell_type": "code",
   "execution_count": null,
   "metadata": {
    "vscode": {
     "languageId": "javascript"
    }
   },
   "outputs": [],
   "source": []
  }
 ],
 "metadata": {
  "kernelspec": {
   "display_name": "venv",
   "language": "python",
   "name": "python3"
  },
  "language_info": {
   "codemirror_mode": {
    "name": "ipython",
    "version": 3
   },
   "file_extension": ".py",
   "mimetype": "text/x-python",
   "name": "python",
   "nbconvert_exporter": "python",
   "pygments_lexer": "ipython3",
   "version": "3.10.12"
  }
 },
 "nbformat": 4,
 "nbformat_minor": 2
}
