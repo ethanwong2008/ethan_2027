{
 "cells": [
  {
   "cell_type": "markdown",
   "metadata": {},
   "source": [
    "# <span style=\"color: lavender; text-shadow: 2px 2px 5px lavender;\">Boolean Hacks </span>\n",
    "\n",
    " by Nora, Amal, Jeongjun "
   ]
  },
  {
   "cell_type": "markdown",
   "metadata": {},
   "source": [
    "\n",
    "### <span style=\"color: pink; text-shadow: 2px 2px 5px pink;\">Popcorn Hack 1: Boolean in JavaScript</span> \n",
    "\n",
    "#### Instructions:\n",
    "1. Open a New Cell set its type to Code\n",
    "\n",
    "2. Declare a Boolean Variable:\n",
    "\n",
    "    Create a variable named isStudent.\n",
    "    Assign it a boolean value of true or false.\n",
    "\n",
    "    Example: var isStudent = true; // Change to false to test different scenarios\n",
    "\n",
    "3. Use an if Statement:\n",
    "\n",
    "    Create a conditional statement to check the value of isStudent.\n",
    "\n",
    "4. Log a Message for True Condition:\n",
    "\n",
    "    Inside the if block, log the message \"Welcome, student!\" to the console if isStudent is true.\n",
    "\n",
    "5. Log a Message for False Condition:\n",
    "\n",
    "    Inside the else block, log the message \"Welcome, guest!\" to the console if isStudent is false.\n",
    "6. Run the Code:\n",
    "\n",
    "    Execute the code to see the output in the console based on the value of isStudent.\n",
    "\n",
    " \n"
   ]
  },
  {
   "cell_type": "code",
   "execution_count": 3,
   "metadata": {
    "vscode": {
     "languageId": "javascript"
    }
   },
   "outputs": [
    {
     "data": {
      "application/javascript": "\n// Step 2: Declare a Boolean variable\nvar isStudent = false; // Change to false to test different scenarios\n\n// Step 3: Use an if statement\nif (isStudent) {\n    // Step 4: Log a message for the true condition\n    console.log(\"Welcome, student!\");\n} else {\n    // Step 5: Log a message for the false condition\n    console.log(\"Welcome, guest!\");\n}\n\n// Step 6: Run the code to see the output\n",
      "text/plain": [
       "<IPython.core.display.Javascript object>"
      ]
     },
     "metadata": {},
     "output_type": "display_data"
    }
   ],
   "source": [
    "%%js\n",
    "\n",
    "// Step 2: Declare a Boolean variable\n",
    "var isStudent = false; // Change to false to test different scenarios\n",
    "\n",
    "// Step 3: Use an if statement\n",
    "if (isStudent) {\n",
    "    // Step 4: Log a message for the true condition\n",
    "    console.log(\"Welcome, student!\");\n",
    "} else {\n",
    "    // Step 5: Log a message for the false condition\n",
    "    console.log(\"Welcome, guest!\");\n",
    "}\n",
    "\n",
    "// Step 6: Run the code to see the output\n"
   ]
  },
  {
   "cell_type": "markdown",
   "metadata": {},
   "source": [
    "\n",
    "### <span style=\"color: pink; text-shadow: 2px 2px 5px pink;\">Popcorn Hack 2: Boolean in JavaScript</span> \n",
    "\n",
    "#### Instructions:\n",
    "1. Open a New Cell set its type to Code\n",
    "2. Declare Variables:\n",
    "\n",
    "    Create a variable for gpa and set it to a number (e.g., var gpa = 3.5;).\n",
    "    Create a variable for inExtracurriculars and set it to a boolean value (e.g., var inExtracurriculars = true;).\n",
    "\n",
    "3. Use Boolean Operators:\n",
    "\n",
    "    Create a variable named isEligibleForScholarship and use a combination of boolean operators to evaluate eligibility:\n",
    "    Check if gpa is greater than or equal to 3.0 AND if inExtracurriculars is true.\n",
    "\n",
    "4. Log the Result:\n",
    "\n",
    "    Use an if statement to log a message indicating whether the student is eligible for the scholarship based on the value of isEligibleForScholarship.\n",
    "\n",
    "5. Run the Code:\n",
    "\n",
    "    Execute the code to see the output in the console based on the GPA and extracurricular participation."
   ]
  },
  {
   "cell_type": "code",
   "execution_count": 10,
   "metadata": {
    "vscode": {
     "languageId": "javascript"
    }
   },
   "outputs": [
    {
     "data": {
      "application/javascript": "\n// Step 2: Declare variables\nvar gpa = 3.5; // Change the GPA value to test different scenarios\nvar inExtracurriculars = true; // Change to false to test different scenarios\n\n// Step 3: Use Boolean operators to determine eligibility\nvar isEligibleForScholarship = (gpa >= 3.0) && inExtracurriculars;\n\n// Step 4: Log the result\nif (isEligibleForScholarship) {\n    console.log(\"The student is eligible for the scholarship!\");\n} else {\n    console.log(\"The student is not eligible for the scholarship.\");\n}\n\n// Step 5: Run the code to see the output\n",
      "text/plain": [
       "<IPython.core.display.Javascript object>"
      ]
     },
     "metadata": {},
     "output_type": "display_data"
    }
   ],
   "source": [
    "%%js\n",
    "\n",
    "// Step 2: Declare variables\n",
    "var gpa = 3.5; // Change the GPA value to test different scenarios\n",
    "var inExtracurriculars = true; // Change to false to test different scenarios\n",
    "\n",
    "// Step 3: Use Boolean operators to determine eligibility\n",
    "var isEligibleForScholarship = (gpa >= 3.0) && inExtracurriculars;\n",
    "\n",
    "// Step 4: Log the result\n",
    "if (isEligibleForScholarship) {\n",
    "    console.log(\"The student is eligible for the scholarship!\");\n",
    "} else {\n",
    "    console.log(\"The student is not eligible for the scholarship.\");\n",
    "}\n",
    "\n",
    "// Step 5: Run the code to see the output\n"
   ]
  }
 ],
 "metadata": {
  "kernelspec": {
   "display_name": "venv",
   "language": "python",
   "name": "python3"
  },
  "language_info": {
   "codemirror_mode": {
    "name": "ipython",
    "version": 3
   },
   "file_extension": ".py",
   "mimetype": "text/x-python",
   "name": "python",
   "nbconvert_exporter": "python",
   "pygments_lexer": "ipython3",
   "version": "3.10.12"
  }
 },
 "nbformat": 4,
 "nbformat_minor": 2
}
