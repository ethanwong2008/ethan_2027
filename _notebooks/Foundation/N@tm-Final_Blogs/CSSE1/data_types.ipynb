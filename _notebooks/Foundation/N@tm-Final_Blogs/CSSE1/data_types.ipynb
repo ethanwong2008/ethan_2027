{
 "cells": [
  {
   "cell_type": "raw",
   "metadata": {
    "vscode": {
     "languageId": "raw"
    }
   },
   "source": [
    "---\n",
    "comments: true\n",
    "layout: post\n",
    "title: Data Types\n",
    "author: Ethan Wong\n",
    "permalink: /N@tm-Final_Blogs/CSSE1/datatypes/\n",
    "category: [ CSSE1 ]\n",
    "type: ccc"
   ]
  },
  {
   "cell_type": "markdown",
   "metadata": {},
   "source": [
    "# Understanding Data Types in JavaScript: Numbers, Strings, Booleans, Arrays, and JSON Objects\n",
    "\n",
    "Data types are essential in JavaScript as they define the kind of data that can be stored and manipulated. JavaScript is a dynamically typed language, meaning variables can hold any type of data. In this blog, we will explore five fundamental data types: Numbers, Strings, Booleans, Arrays, and JSON Objects, with examples.\n",
    "\n",
    "## 1. Numbers\n",
    "Numbers in JavaScript can be integers or floating-point values."
   ]
  },
  {
   "cell_type": "code",
   "execution_count": null,
   "metadata": {
    "vscode": {
     "languageId": "javascript"
    }
   },
   "outputs": [
    {
     "data": {
      "application/javascript": "\nlet integerNumber = 42;\nlet floatingNumber = 3.14;\n\nconsole.log(integerNumber); // Output: 42\nconsole.log(floatingNumber); // Output: 3.14\n",
      "text/plain": [
       "<IPython.core.display.Javascript object>"
      ]
     },
     "metadata": {},
     "output_type": "display_data"
    }
   ],
   "source": [
    "%%js \n",
    "\n",
    "let integerNumber = 42;\n",
    "let floatingNumber = 3.1;\n",
    "\n",
    "console.log(integerNumber); // Output: 42\n",
    "console.log(floatingNumber); // Output: 3.1"
   ]
  },
  {
   "cell_type": "markdown",
   "metadata": {},
   "source": [
    "# 2. Strings\n",
    "\n",
    "Strings are sequences of characters enclosed in single ('), double (\"), or backticks (`)."
   ]
  },
  {
   "cell_type": "code",
   "execution_count": 12,
   "metadata": {
    "vscode": {
     "languageId": "javascript"
    }
   },
   "outputs": [
    {
     "data": {
      "application/javascript": "\nlet singleQuote = 'Hello';\nlet doubleQuote = \"World\";\nlet templateLiteral = `Hello, ${doubleQuote}!`;\n\nconsole.log(singleQuote); // Output: Hello\nconsole.log(doubleQuote); // Output: World\nconsole.log(templateLiteral); // Output: Hello, World!\n",
      "text/plain": [
       "<IPython.core.display.Javascript object>"
      ]
     },
     "metadata": {},
     "output_type": "display_data"
    }
   ],
   "source": [
    "%%js \n",
    "\n",
    "let singleQuote = 'Hello';\n",
    "let doubleQuote = \"World\";\n",
    "let templateLiteral = `Hello, ${doubleQuote}!`;\n",
    "\n",
    "console.log(singleQuote); // Output: Hello\n",
    "console.log(doubleQuote); // Output: World\n",
    "console.log(templateLiteral); // Output: Hello, World!"
   ]
  },
  {
   "cell_type": "markdown",
   "metadata": {},
   "source": [
    "# 3. Booleans\n",
    "\n",
    "Booleans represent true or false values, often used in conditional statements"
   ]
  },
  {
   "cell_type": "code",
   "execution_count": null,
   "metadata": {
    "vscode": {
     "languageId": "javascript"
    }
   },
   "outputs": [
    {
     "data": {
      "application/javascript": "\nlet isJavaScriptFun = false;\n\nif (isJavaScriptFun) {\n    console.log(\"JavaScript is fun!\");\n} else {\n    console.log(\"JavaScript is not fun!\");\n}\n",
      "text/plain": [
       "<IPython.core.display.Javascript object>"
      ]
     },
     "metadata": {},
     "output_type": "display_data"
    }
   ],
   "source": [
    "%%js \n",
    "\n",
    "let isJavaScriptFun = true;\n",
    "\n",
    "if (isJavaScriptFun) {\n",
    "    console.log(\"JavaScript is fun!\");\n",
    "} else {\n",
    "    console.log(\"JavaScript is not fun!\");\n",
    "}"
   ]
  },
  {
   "cell_type": "markdown",
   "metadata": {},
   "source": [
    "# 4. Arrays\n",
    "\n",
    "Arrays are used to store multiple values in a single variable. They can hold different data types."
   ]
  },
  {
   "cell_type": "code",
   "execution_count": 17,
   "metadata": {
    "vscode": {
     "languageId": "javascript"
    }
   },
   "outputs": [
    {
     "data": {
      "application/javascript": "\nlet fruits = [\"Apple\", \"Banana\", \"Cherry\"];\nconsole.log(fruits[1]); // Output: Apple\nconsole.log(fruits.length); // Output: 3\n",
      "text/plain": [
       "<IPython.core.display.Javascript object>"
      ]
     },
     "metadata": {},
     "output_type": "display_data"
    }
   ],
   "source": [
    "%%js \n",
    "\n",
    "let fruits = [\"Apple\", \"Banana\", \"Cherry\"];\n",
    "console.log(fruits[1]); // Output: Apple\n",
    "console.log(fruits.length); // Output: 3"
   ]
  },
  {
   "cell_type": "markdown",
   "metadata": {},
   "source": [
    "# 5. JSON Objects\n",
    "\n",
    "JSON (JavaScript Object Notation) is a lightweight format for storing and transporting data. JSON objects consist of key-value pairs."
   ]
  },
  {
   "cell_type": "code",
   "execution_count": 18,
   "metadata": {
    "vscode": {
     "languageId": "javascript"
    }
   },
   "outputs": [
    {
     "data": {
      "application/javascript": "\nlet person = {\n    \"name\": \"Alice\",\n    \"age\": 25,\n    \"isStudent\": false\n};\n\nconsole.log(person.name); // Output: Alice\nconsole.log(person[\"age\"]); // Output: 25\n",
      "text/plain": [
       "<IPython.core.display.Javascript object>"
      ]
     },
     "metadata": {},
     "output_type": "display_data"
    }
   ],
   "source": [
    "%%js \n",
    "\n",
    "let person = {\n",
    "    \"name\": \"Alice\",\n",
    "    \"age\": 25,\n",
    "    \"isStudent\": false\n",
    "};\n",
    "\n",
    "console.log(person.name); // Output: Alice\n",
    "console.log(person[\"age\"]); // Output: 25"
   ]
  },
  {
   "cell_type": "markdown",
   "metadata": {},
   "source": [
    "# Conclusion\n",
    "\n",
    "Understanding data types is crucial for effective JavaScript programming. Whether working with numbers, strings, booleans, arrays, or JSON objects, mastering these fundamental types will enhance your ability to write robust and dynamic applications."
   ]
  }
 ],
 "metadata": {
  "language_info": {
   "name": "python"
  }
 },
 "nbformat": 4,
 "nbformat_minor": 2
}
