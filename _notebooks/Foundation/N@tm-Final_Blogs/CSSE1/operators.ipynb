{
 "cells": [
  {
   "cell_type": "markdown",
   "metadata": {},
   "source": [
    "# Understanding Operators in JavaScript: String Operations, Mathematical Operations, and Boolean Expressions\n",
    "\n",
    "Operators in JavaScript allow us to perform various computations and manipulations on data. In this blog, we will explore string operations, mathematical operations, and boolean expressions with practical examples.\n",
    "\n",
    "## 1. String Operations\n",
    "String operations involve manipulating text values using operators and built-in methods.\n",
    "\n",
    "### Concatenation\n",
    "String concatenation is the process of joining two or more strings together using the `+` operator. This is useful for creating full names, sentences, or dynamically constructing text."
   ]
  },
  {
   "cell_type": "code",
   "execution_count": 1,
   "metadata": {
    "vscode": {
     "languageId": "javascript"
    }
   },
   "outputs": [
    {
     "data": {
      "application/javascript": "\nlet firstName = \"John\";\nlet lastName = \"Doe\";\nlet fullName = firstName + \" \" + lastName;\nconsole.log(fullName); // Output: John Doe\n",
      "text/plain": [
       "<IPython.core.display.Javascript object>"
      ]
     },
     "metadata": {},
     "output_type": "display_data"
    }
   ],
   "source": [
    "%%js \n",
    "\n",
    "let firstName = \"John\";\n",
    "let lastName = \"Doe\";\n",
    "let fullName = firstName + \" \" + lastName;\n",
    "console.log(fullName); // Output: John Doe"
   ]
  },
  {
   "cell_type": "markdown",
   "metadata": {},
   "source": [
    "# Template Literals\n",
    "\n",
    "Template literals are a modern way to handle string interpolation. They allow embedding expressions inside strings using backticks (``) and the ${} syntax."
   ]
  },
  {
   "cell_type": "code",
   "execution_count": 3,
   "metadata": {
    "vscode": {
     "languageId": "javascript"
    }
   },
   "outputs": [
    {
     "data": {
      "application/javascript": "\nlet firstName = \"John\";\nlet lastName = \"Doe\";\nlet age = 25;\nlet message = `Hello, my name is ${firstName} and I am ${age} years old.`;\nconsole.log(message);\n",
      "text/plain": [
       "<IPython.core.display.Javascript object>"
      ]
     },
     "metadata": {},
     "output_type": "display_data"
    }
   ],
   "source": [
    "%%js \n",
    "\n",
    "let firstName = \"John\";\n",
    "let lastName = \"Doe\";\n",
    "let age = 25;\n",
    "let message = `Hello, my name is ${firstName} and I am ${age} years old.`;\n",
    "console.log(message);"
   ]
  },
  {
   "cell_type": "markdown",
   "metadata": {},
   "source": [
    "# String Methods\n",
    "\n",
    "String methods provide various functionalities such as changing case, replacing text, and measuring length."
   ]
  },
  {
   "cell_type": "code",
   "execution_count": 4,
   "metadata": {
    "vscode": {
     "languageId": "javascript"
    }
   },
   "outputs": [
    {
     "data": {
      "application/javascript": "\nlet text = \"JavaScript is awesome!\";\nconsole.log(text.length); // Output: 21\nconsole.log(text.toUpperCase()); // Output: JAVASCRIPT IS AWESOME!\nconsole.log(text.replace(\"awesome\", \"powerful\")); // Output: JavaScript is powerful!\n",
      "text/plain": [
       "<IPython.core.display.Javascript object>"
      ]
     },
     "metadata": {},
     "output_type": "display_data"
    }
   ],
   "source": [
    "%%js \n",
    "\n",
    "let text = \"JavaScript is awesome!\";\n",
    "console.log(text.length); // Output: 21\n",
    "console.log(text.toUpperCase()); // Output: JAVASCRIPT IS AWESOME!\n",
    "console.log(text.replace(\"awesome\", \"powerful\")); // Output: JavaScript is powerful!"
   ]
  },
  {
   "cell_type": "markdown",
   "metadata": {},
   "source": [
    "---"
   ]
  },
  {
   "cell_type": "markdown",
   "metadata": {},
   "source": [
    "# 2. Mathematical Operations\n",
    "\n",
    "Mathematical operators perform arithmetic computations on numbers.\n",
    "\n",
    "Basic Arithmetic Operators\n",
    "\n",
    "JavaScript supports basic mathematical operations such as addition, subtraction, multiplication, division, and modulus."
   ]
  },
  {
   "cell_type": "code",
   "execution_count": 5,
   "metadata": {
    "vscode": {
     "languageId": "javascript"
    }
   },
   "outputs": [
    {
     "data": {
      "application/javascript": "\nlet a = 10;\nlet b = 5;\nconsole.log(a + b); // Output: 15\nconsole.log(a - b); // Output: 5\nconsole.log(a * b); // Output: 50\nconsole.log(a / b); // Output: 2\nconsole.log(a % b); // Output: 0 (modulus operator returns the remainder)\n",
      "text/plain": [
       "<IPython.core.display.Javascript object>"
      ]
     },
     "metadata": {},
     "output_type": "display_data"
    }
   ],
   "source": [
    "%%js \n",
    "\n",
    "let a = 10;\n",
    "let b = 5;\n",
    "console.log(a + b); // Output: 15\n",
    "console.log(a - b); // Output: 5\n",
    "console.log(a * b); // Output: 50\n",
    "console.log(a / b); // Output: 2\n",
    "console.log(a % b); // Output: 0 (modulus operator returns the remainder)"
   ]
  },
  {
   "cell_type": "markdown",
   "metadata": {},
   "source": [
    "# Increment and Decrement Operators\n",
    "\n",
    "These operators are used to increase or decrease a number's value by 1."
   ]
  },
  {
   "cell_type": "code",
   "execution_count": 7,
   "metadata": {
    "vscode": {
     "languageId": "javascript"
    }
   },
   "outputs": [
    {
     "data": {
      "application/javascript": "\nlet count = 4;\ncount++;\nconsole.log(count); // Output: 1\ncount--;\nconsole.log(count); // Output: 0\n",
      "text/plain": [
       "<IPython.core.display.Javascript object>"
      ]
     },
     "metadata": {},
     "output_type": "display_data"
    }
   ],
   "source": [
    "%%js \n",
    "\n",
    "let count = 4;\n",
    "count++;\n",
    "console.log(count); // Output: 1\n",
    "count--;\n",
    "console.log(count); // Output: 0"
   ]
  },
  {
   "cell_type": "markdown",
   "metadata": {},
   "source": [
    "# Exponentiation\n",
    "\n",
    "Exponentiation is performed using the ** operator."
   ]
  },
  {
   "cell_type": "code",
   "execution_count": 9,
   "metadata": {
    "vscode": {
     "languageId": "javascript"
    }
   },
   "outputs": [
    {
     "data": {
      "application/javascript": "\nlet a = 2;\nlet b = 3; \nconsole.log(a ** b); \n",
      "text/plain": [
       "<IPython.core.display.Javascript object>"
      ]
     },
     "metadata": {},
     "output_type": "display_data"
    }
   ],
   "source": [
    "%%js\n",
    "\n",
    "let a = 2;\n",
    "let b = 3; \n",
    "console.log(a ** b); "
   ]
  },
  {
   "cell_type": "markdown",
   "metadata": {},
   "source": [
    "---"
   ]
  },
  {
   "cell_type": "markdown",
   "metadata": {},
   "source": [
    "# 3. Boolean Expressions\n",
    "\n",
    "Boolean expressions evaluate to true or false and are often used in decision-making and conditional logic.\n",
    "\n",
    "Comparison Operators\n",
    "\n",
    "Comparison operators compare values and return boolean results.\n"
   ]
  },
  {
   "cell_type": "code",
   "execution_count": 15,
   "metadata": {
    "vscode": {
     "languageId": "javascript"
    }
   },
   "outputs": [
    {
     "data": {
      "application/javascript": "\nlet a = 10;\nlet b = 5; \n\nconsole.log(a > b); // Output: true\nconsole.log(a < b); // Output: false\nconsole.log(a == \"10\"); // Output: true (loose equality, does type conversion)\nconsole.log(a === \"a\"); // Output: false (strict equality, checks both value and type)\n",
      "text/plain": [
       "<IPython.core.display.Javascript object>"
      ]
     },
     "metadata": {},
     "output_type": "display_data"
    }
   ],
   "source": [
    "%%js \n",
    "\n",
    "let a = 10;\n",
    "let b = 5; \n",
    "\n",
    "console.log(a > b); // Output: true\n",
    "console.log(a < b); // Output: false\n",
    "console.log(a == \"10\"); // Output: true (loose equality, does type conversion)\n",
    "console.log(a === \"a\"); // Output: false (strict equality, checks both value and type)"
   ]
  },
  {
   "cell_type": "markdown",
   "metadata": {},
   "source": [
    "# Conclusion\n",
    "\n",
    "Operators are essential tools for manipulating data in JavaScript. Understanding string operations, mathematical operations, and boolean expressions enables developers to write more effective and efficient code."
   ]
  }
 ],
 "metadata": {
  "kernelspec": {
   "display_name": "venv",
   "language": "python",
   "name": "python3"
  },
  "language_info": {
   "codemirror_mode": {
    "name": "ipython",
    "version": 3
   },
   "file_extension": ".py",
   "mimetype": "text/x-python",
   "name": "python",
   "nbconvert_exporter": "python",
   "pygments_lexer": "ipython3",
   "version": "3.10.12"
  }
 },
 "nbformat": 4,
 "nbformat_minor": 2
}
