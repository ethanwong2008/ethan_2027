{
 "cells": [
  {
   "cell_type": "raw",
   "metadata": {
    "vscode": {
     "languageId": "raw"
    }
   },
   "source": [
    "---\n",
    "comments: true\n",
    "layout: post\n",
    "title: Control Structures\n",
    "author: Ethan Wong\n",
    "permalink: /N@tm-Final_Blogs/CSSE1/controlstructures/\n",
    "category: [ CSSE1 ]\n",
    "type: ccc"
   ]
  },
  {
   "cell_type": "markdown",
   "metadata": {
    "vscode": {
     "languageId": "plaintext"
    }
   },
   "source": [
    "# Control Structures in Programming: Iteration, Conditions, and Nested Conditions\n",
    "\n",
    "Control structures are fundamental to programming, allowing developers to dictate the flow of execution based on conditions and loops. In this blog, we will explore iteration, conditions, and nested conditions with explanations and examples.\n",
    "\n",
    "## Iteration\n",
    "\n",
    "Iteration refers to the process of executing a block of code multiple times. This is commonly done using loops. The primary types of loops include:\n",
    "\n",
    "### 1. **For Loop**\n",
    "A `for` loop is used when the number of iterations is known beforehand."
   ]
  },
  {
   "cell_type": "code",
   "execution_count": 1,
   "metadata": {
    "vscode": {
     "languageId": "javascript"
    }
   },
   "outputs": [
    {
     "data": {
      "application/javascript": "\nfor (let i = 0; i < 5; i++) {\n    console.log(\"Iteration:\", i);\n}\n",
      "text/plain": [
       "<IPython.core.display.Javascript object>"
      ]
     },
     "metadata": {},
     "output_type": "display_data"
    }
   ],
   "source": [
    "%%js\n",
    "\n",
    "for (let i = 0; i < 5; i++) {\n",
    "    console.log(\"Iteration:\", i);\n",
    "}"
   ]
  },
  {
   "cell_type": "markdown",
   "metadata": {},
   "source": [
    "# 2. While Loop\n",
    "\n",
    "A while loop is used when the number of iterations is not known in advance, and it runs until a specified condition is met."
   ]
  },
  {
   "cell_type": "code",
   "execution_count": 2,
   "metadata": {
    "vscode": {
     "languageId": "javascript"
    }
   },
   "outputs": [
    {
     "data": {
      "application/javascript": "\nlet count = 0;\nwhile (count < 5) {\n    console.log(\"Count:\", count);\n    count++;\n}\n",
      "text/plain": [
       "<IPython.core.display.Javascript object>"
      ]
     },
     "metadata": {},
     "output_type": "display_data"
    }
   ],
   "source": [
    "%%js \n",
    "\n",
    "let count = 0;\n",
    "while (count < 5) {\n",
    "    console.log(\"Count:\", count);\n",
    "    count++;\n",
    "}"
   ]
  },
  {
   "cell_type": "markdown",
   "metadata": {},
   "source": [
    "---"
   ]
  },
  {
   "cell_type": "markdown",
   "metadata": {},
   "source": [
    "# Conditional Statements\n",
    "\n",
    "Conditional statements allow decision-making in code based on boolean expressions.\n",
    "\n",
    "### 1. If Statement\n",
    "\n",
    "An if statement executes a block of code only if a specified condition evaluates to True."
   ]
  },
  {
   "cell_type": "code",
   "execution_count": null,
   "metadata": {
    "vscode": {
     "languageId": "javascript"
    }
   },
   "outputs": [
    {
     "data": {
      "application/javascript": "\nlet age = 17;\nif (age >= 18) {\n    console.log(\"You are eligible to vote.\");\n}\n",
      "text/plain": [
       "<IPython.core.display.Javascript object>"
      ]
     },
     "metadata": {},
     "output_type": "display_data"
    }
   ],
   "source": [
    "%%js \n",
    "\n",
    "let age = 18;\n",
    "if (age >= 18) {\n",
    "    console.log(\"You are eligible to vote.\");\n",
    "}"
   ]
  },
  {
   "cell_type": "markdown",
   "metadata": {},
   "source": [
    "# 2. If-Else Statement\n",
    "\n",
    "An if-else statement provides an alternative execution path when the condition is false."
   ]
  },
  {
   "cell_type": "code",
   "execution_count": 5,
   "metadata": {
    "vscode": {
     "languageId": "javascript"
    }
   },
   "outputs": [
    {
     "data": {
      "application/javascript": "\nlet age = 16;\nif (age >= 18) {\n    console.log(\"You are eligible to vote.\");\n} else {\n    console.log(\"You are not eligible to vote.\");\n}\n",
      "text/plain": [
       "<IPython.core.display.Javascript object>"
      ]
     },
     "metadata": {},
     "output_type": "display_data"
    }
   ],
   "source": [
    "%%js \n",
    "\n",
    "let age = 16;\n",
    "if (age >= 18) {\n",
    "    console.log(\"You are eligible to vote.\");\n",
    "} else {\n",
    "    console.log(\"You are not eligible to vote.\");\n",
    "}"
   ]
  },
  {
   "cell_type": "markdown",
   "metadata": {},
   "source": [
    "# 3. If-Else if-Else Statement\n",
    "\n",
    "An if-else if-else statement allows checking multiple conditions sequentially."
   ]
  },
  {
   "cell_type": "code",
   "execution_count": 6,
   "metadata": {
    "vscode": {
     "languageId": "javascript"
    }
   },
   "outputs": [
    {
     "data": {
      "application/javascript": "\nlet score = 90;\nif (score >= 90) {\n    console.log(\"Grade: A\");\n} else if (score >= 80) {\n    console.log(\"Grade: B\");\n} else if (score >= 70) {\n    console.log(\"Grade: C\");\n} else {\n    console.log(\"Grade: F\");\n}\n",
      "text/plain": [
       "<IPython.core.display.Javascript object>"
      ]
     },
     "metadata": {},
     "output_type": "display_data"
    }
   ],
   "source": [
    "%%js \n",
    "\n",
    "let score = 90;\n",
    "if (score >= 90) {\n",
    "    console.log(\"Grade: A\");\n",
    "} else if (score >= 80) {\n",
    "    console.log(\"Grade: B\");\n",
    "} else if (score >= 70) {\n",
    "    console.log(\"Grade: C\");\n",
    "} else {\n",
    "    console.log(\"Grade: F\");\n",
    "}"
   ]
  },
  {
   "cell_type": "markdown",
   "metadata": {},
   "source": [
    "---"
   ]
  },
  {
   "cell_type": "markdown",
   "metadata": {},
   "source": [
    "# Nested Conditions\n",
    "\n",
    "Nested conditions involve placing one condition inside another. This is useful for checking multiple levels of conditions."
   ]
  },
  {
   "cell_type": "code",
   "execution_count": null,
   "metadata": {
    "vscode": {
     "languageId": "javascript"
    }
   },
   "outputs": [
    {
     "data": {
      "application/javascript": "\nlet age = 1;\nlet hasID = false;\n\nif (age >= 18) {\n    if (hasID) {\n        console.log(\"You can enter the club.\");\n    } else {\n        console.log(\"You need an ID to enter.\");\n    }\n} else {\n    console.log(\"You are too young to enter.\");\n}\n",
      "text/plain": [
       "<IPython.core.display.Javascript object>"
      ]
     },
     "metadata": {},
     "output_type": "display_data"
    }
   ],
   "source": [
    "%%js \n",
    "\n",
    "let age = 20;\n",
    "let hasID = true;\n",
    "\n",
    "if (age >= 18) {\n",
    "    if (hasID) {\n",
    "        console.log(\"You can enter the club.\");\n",
    "    } else {\n",
    "        console.log(\"You need an ID to enter.\");\n",
    "    }\n",
    "} else {\n",
    "    console.log(\"You are too young to enter.\");\n",
    "}"
   ]
  },
  {
   "cell_type": "markdown",
   "metadata": {},
   "source": [
    "---"
   ]
  },
  {
   "cell_type": "markdown",
   "metadata": {},
   "source": [
    "# Conclusion\n",
    "\n",
    "Control structures like loops, conditions, and nested conditions are essential for handling complex logic in programming. Mastering these concepts allows developers to create efficient and dynamic applications."
   ]
  }
 ],
 "metadata": {
  "kernelspec": {
   "display_name": "venv",
   "language": "python",
   "name": "python3"
  },
  "language_info": {
   "codemirror_mode": {
    "name": "ipython",
    "version": 3
   },
   "file_extension": ".py",
   "mimetype": "text/x-python",
   "name": "python",
   "nbconvert_exporter": "python",
   "pygments_lexer": "ipython3",
   "version": "3.10.12"
  }
 },
 "nbformat": 4,
 "nbformat_minor": 2
}
