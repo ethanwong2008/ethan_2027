{
 "cells": [
  {
   "cell_type": "raw",
   "metadata": {
    "vscode": {
     "languageId": "raw"
    }
   },
   "source": [
    "---\n",
    "comments: true\n",
    "layout: post\n",
    "title: Input-Output\n",
    "author: Ethan Wong\n",
    "permalink: /N@tm-Final_Blogs/PBL/input-output/\n",
    "category: [ PBL ]\n",
    "type: ccc"
   ]
  }
 ],
 "metadata": {
  "language_info": {
   "name": "python"
  }
 },
 "nbformat": 4,
 "nbformat_minor": 2
}
