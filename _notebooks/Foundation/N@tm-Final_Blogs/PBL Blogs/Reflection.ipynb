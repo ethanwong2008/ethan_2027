{
 "cells": [
  {
   "cell_type": "raw",
   "metadata": {
    "vscode": {
     "languageId": "raw"
    }
   },
   "source": [
    "comments: true\n",
    "layout: post\n",
    "title: N@tm Reflection\n",
    "author: Ethan Wong\n",
    "permalink: N@tm-Final_Blogs/PBL/reflection/\n",
    "category: [ PBL ]\n",
    "type: ccc"
   ]
  },
  {
   "cell_type": "markdown",
   "metadata": {},
   "source": [
    "# Refining the Magic: Feedback on My Quidditch-Themed Platformer Game\n",
    "\n",
    "Creating a game is an exciting yet challenging process, and receiving feedback is a crucial step in refining the experience for players. After showcasing my Quidditch-themed platformer level, I gathered insights that highlighted both the strengths and areas for improvement.\n",
    "\n",
    "## What Players Loved\n",
    "One of the most praised aspects of the game was its **unique Quidditch theme**, which resonated with fans of the Harry Potter series. The theme made the game stand out and added a nostalgic element.\n",
    "\n",
    "Another well-received feature was the **wand mechanic**, which added an interesting twist to the gameplay and made the experience more engaging. Additionally, players enjoyed the **variety of level elements**, including moving platforms and dynamic obstacles, making the gameplay diverse and exciting.\n",
    "\n",
    "The **smooth gameplay and polished experience** were also appreciated, with many commenting on how fun it was to play without encountering bugs.\n",
    "\n",
    "## Areas for Improvement\n",
    "Despite the positive feedback, a recurring suggestion was to **refine the jumping mechanic** to provide better control and smoother movement.\n",
    "\n",
    "Another suggestion was **enhancing the background visuals** to make the experience even more immersive.\n",
    "\n",
    "Finally, I could have **added more animation**. If I had more time with the project, I would have animated the player exiting the level. It would make the game more enjoyable and more visually appealing. \n",
    "\n",
    "## Next Steps\n",
    "Based on this feedback, my next steps for refining the game will focus on:\n",
    "1. **Tweaking the jump mechanics** to provide better control and responsiveness.\n",
    "2. **Enhancing the background visuals** for a more immersive Quidditch atmosphere.\n",
    "3. **Incooperate Animations** to ensure the player is more immersed and enjoys the game \n",
    "\n",
    "It's incredibly rewarding to see players enjoy the game while also providing valuable insights for improvement. The journey of game development is all about iteration, and I’m excited to refine and enhance the experience further. Thanks to everyone who played and shared their thoughts!"
   ]
  }
 ],
 "metadata": {
  "language_info": {
   "name": "python"
  }
 },
 "nbformat": 4,
 "nbformat_minor": 2
}
