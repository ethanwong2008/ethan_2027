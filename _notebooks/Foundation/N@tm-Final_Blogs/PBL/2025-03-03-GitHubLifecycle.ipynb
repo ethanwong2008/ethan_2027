{
 "cells": [
  {
   "cell_type": "raw",
   "metadata": {
    "vscode": {
     "languageId": "powershell"
    }
   },
   "source": [
    "---\n",
    "comments: true\n",
    "layout: post\n",
    "title: Github Lifecycle\n",
    "author: Veera Kalakota\n",
    "permalink: /N@tM-FinalBlogs/PBL-Blogs/githublifecycle\n",
    "category: [ PBL ]\n",
    "type: ccc\n",
    "---"
   ]
  },
  {
   "cell_type": "markdown",
   "metadata": {},
   "source": [
    "# Software Development Lifecycle (SDLC)"
   ]
  },
  {
   "cell_type": "markdown",
   "metadata": {},
   "source": [
    "***The Software Development Lifecycle is the process of planning, developing, testing, and deploying software applications. It ensures that software is built in a structured and efficient manner while maintaining quality.***"
   ]
  },
  {
   "cell_type": "markdown",
   "metadata": {},
   "source": [
    "### 1. Source Control (Git)\n",
    "Source control is a system that tracks changes to the codebase, allowing multiple developers to collaborate without overwriting each other's work. Git is the most widely used version control system.\n",
    "\n",
    "Why use source control?\n",
    "- Keeps track of every change in the code.\n",
    "- Allows multiple developers to work on the same project without conflicts.\n",
    "- Provides a history of code changes (useful for debugging and rollbacks).\n",
    "- Supports collaboration through repositories like GitHub, GitLab, and Bitbucket."
   ]
  },
  {
   "cell_type": "code",
   "execution_count": null,
   "metadata": {
    "vscode": {
     "languageId": "powershell"
    }
   },
   "outputs": [],
   "source": [
    "# Common Git Commands:\n",
    "\n",
    "git init        # Initialize a Git repository\n",
    "git clone <repo_url>  # Clone an existing repository\n",
    "git status      # Check the status of changes\n",
    "git add .       # Stage changes\n",
    "git commit -m \"Commit message\"  # Save changes locally\n",
    "git push        # Push changes to a remote repository\n",
    "git pull        # Fetch and merge changes from the remote repository"
   ]
  },
  {
   "cell_type": "markdown",
   "metadata": {},
   "source": [
    "### 2. Forking & Branching\n",
    "\n",
    "**Forking**\n",
    "\n",
    "Forking is when you create an independent copy of a repository. This is useful when contributing to open-source projects or making personal modifications.\n",
    "\n",
    "Example Use Case:\n",
    "- You fork a repository from GitHub, make changes in your copy, and then submit a pull request to the original repository.\n",
    "\n",
    "**Branching**\n",
    "\n",
    "Branching allows developers to create a separate version of the codebase to work on new features or fixes without affecting the main (production) code.\n",
    "\n",
    "Types of Branches in Git:\n",
    "\n",
    "- Main (Master) Branch: The stable, production-ready branch.\n",
    "- Feature Branch: A separate branch for developing new features.\n",
    "- Bug Fix Branch: Created to address a specific bug.\n",
    "- Release Branch: A stable branch prepared for deployment."
   ]
  },
  {
   "cell_type": "code",
   "execution_count": null,
   "metadata": {
    "vscode": {
     "languageId": "powershell"
    }
   },
   "outputs": [],
   "source": [
    "# Common Git Branching Commands:\n",
    "\n",
    "git branch feature-xyz  # Create a new branch\n",
    "git checkout feature-xyz  # Switch to a branch\n",
    "git checkout -b new-feature  # Create and switch to a new branch\n",
    "git merge feature-xyz  # Merge a branch into the main branch\n",
    "git branch -d feature-xyz  # Delete a branch"
   ]
  },
  {
   "cell_type": "markdown",
   "metadata": {},
   "source": [
    "### 3. Testing & Verification\n",
    "\n",
    "Testing ensures that code changes work correctly before being merged into the main branch or deployed.\n",
    "\n",
    "Types of Testing:\n",
    "\n",
    "- Unit Testing: Tests individual functions or components.\n",
    "- Integration Testing: Ensures different parts of the application work together.\n",
    "- End-to-End Testing: Simulates user behavior to test the entire application.\n",
    "- Automated Testing: Runs pre-written test cases automatically."
   ]
  },
  {
   "cell_type": "code",
   "execution_count": null,
   "metadata": {
    "vscode": {
     "languageId": "javascript"
    }
   },
   "outputs": [],
   "source": [
    "// Example of Unit Testing in JavaScript (Using Jest):\n",
    "\n",
    "function add(a, b) {\n",
    "    return a + b;\n",
    "}\n",
    "\n",
    "test('adds 1 + 2 to equal 3', () => {\n",
    "    expect(add(1, 2)).toBe(3);\n",
    "});"
   ]
  },
  {
   "cell_type": "markdown",
   "metadata": {},
   "source": [
    "- Continuous Integration (CI): Tools like GitHub Actions, Jenkins, and Travis CI automatically test code when changes are pushed."
   ]
  },
  {
   "cell_type": "markdown",
   "metadata": {},
   "source": [
    "### 4. Pull Requests & Merging\n",
    "A pull request (PR) is a request to merge changes from one branch into another (usually into the main branch).\n",
    "This allows other developers to review the code before it gets added to the main project.\n",
    "\n",
    "- Pull Request Workflow:\n",
    "    - Create a new branch and make changes.\n",
    "    - Push the changes to a remote repository.\n",
    "    - Open a pull request (PR).\n",
    "    - Reviewers provide feedback or approve the PR.\n",
    "    - If approved, the PR is merged into the main branch.\n",
    "\n",
    "- Merging Strategies:\n",
    "    - Merge Commit (git merge): Keeps all commit history.\n",
    "    - Rebase (git rebase): Applies changes on top of the main branch for a cleaner history.\n",
    "    - Squash and Merge: Combines multiple commits into one before merging."
   ]
  },
  {
   "cell_type": "markdown",
   "metadata": {},
   "source": [
    "### 5. Deployment\n",
    "\n",
    "Deployment is the process of making the software available for users.\n",
    "\n",
    "- Types of Deployment:\n",
    "    - Development Environment: Used for internal testing.\n",
    "    - Staging Environment: A production-like environment for final testing.\n",
    "    - Production Environment: The live application used by real users.\n",
    "\n",
    "- Common Deployment Methods:\n",
    "    - Manual Deployment: Uploading files to a server.\n",
    "    - Automated Deployment (CI/CD Pipelines): Uses tools like GitHub Actions, Jenkins, or Docker to automate deployment.\n",
    "    - Containerization (Docker, Kubernetes): Packages applications into containers for easy deployment."
   ]
  }
 ],
 "metadata": {
  "language_info": {
   "name": "python"
  }
 },
 "nbformat": 4,
 "nbformat_minor": 2
}
