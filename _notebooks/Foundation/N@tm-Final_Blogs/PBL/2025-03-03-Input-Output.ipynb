{
 "cells": [
  {
   "cell_type": "raw",
   "metadata": {
    "vscode": {
     "languageId": "raw"
    }
   },
   "source": [
    "---\n",
    "comments: true\n",
    "layout: post\n",
    "title: Input and Output\n",
    "author: Ethan Wong\n",
    "permalink: /N@tM-FinalBlogs/PBLBlogs/inputoutput\n",
    "category: [ PBL ]\n",
    "type: ccc\n",
    "---"
   ]
  },
  {
   "cell_type": "markdown",
   "metadata": {},
   "source": [
    "# Input/Output in JavaScript"
   ]
  },
  {
   "cell_type": "markdown",
   "metadata": {},
   "source": [
    "***Input and output (I/O) operations are essential for interacting with users. JavaScript enables I/O through various methods, primarily by handling user inputs via HTML forms and displaying output dynamically on a webpage using the Document Object Model (DOM).***"
   ]
  },
  {
   "cell_type": "markdown",
   "metadata": {},
   "source": [
    "### 1. HTML5 Input Fields\n",
    "\n",
    "HTML5 provides different types of input elements to collect user input in forms.\n",
    "\n",
    "Common Input Types in HTML5:\n",
    "- Text Input (type=\"text\"): Allows users to enter short text.\n",
    "- Password Input (type=\"password\"): Hides entered text for security.\n",
    "- Email Input (type=\"email\"): Ensures valid email format.\n",
    "- Number Input (type=\"number\"): Allows only numeric values.\n",
    "- Checkbox (type=\"checkbox\"): Provides an on/off switch.\n",
    "- Radio Button (type=\"radio\"): Selects one option from a group.\n",
    "- Date Input (type=\"date\"): Allows users to select a date.\n",
    "- File Input (type=\"file\"): Uploads files."
   ]
  },
  {
   "cell_type": "code",
   "execution_count": null,
   "metadata": {
    "vscode": {
     "languageId": "html"
    }
   },
   "outputs": [],
   "source": [
    "<!--Example: HTML Input Form-->\n",
    "\n",
    "<form id=\"userForm\">\n",
    "    <label for=\"name\">Name:</label>\n",
    "    <input type=\"text\" id=\"name\" name=\"name\" required>\n",
    "    \n",
    "    <label for=\"email\">Email:</label>\n",
    "    <input type=\"email\" id=\"email\" name=\"email\" required>\n",
    "\n",
    "    <button type=\"submit\">Submit</button>\n",
    "</form>"
   ]
  },
  {
   "cell_type": "markdown",
   "metadata": {},
   "source": [
    "In this example:\n",
    "\n",
    "- A user enters their name and email.\n",
    "- The form has the required attribute to ensure input validation.\n",
    "- The submit button triggers JavaScript for further processing."
   ]
  },
  {
   "cell_type": "markdown",
   "metadata": {},
   "source": [
    "### 2. Form Validation\n",
    "\n",
    "Validation ensures that user input meets specific criteria before being processed.\n",
    "\n",
    "Types of Validation: \n",
    "- HTML5 Built-in Validation\n",
    "    - HTML5 provides attributes like required, minlength, maxlength, pattern, and type for basic validation."
   ]
  },
  {
   "cell_type": "code",
   "execution_count": null,
   "metadata": {
    "vscode": {
     "languageId": "html"
    }
   },
   "outputs": [],
   "source": [
    "<input type=\"email\" required>\n",
    "<input type=\"text\" minlength=\"3\" maxlength=\"20\">"
   ]
  },
  {
   "cell_type": "markdown",
   "metadata": {},
   "source": [
    "- JavaScript Validation (Custom Validation) \n",
    "    - JavaScript provides more flexibility to validate input before form submission."
   ]
  },
  {
   "cell_type": "code",
   "execution_count": null,
   "metadata": {
    "vscode": {
     "languageId": "javascript"
    }
   },
   "outputs": [],
   "source": [
    "document.getElementById(\"userForm\").addEventListener(\"submit\", function(event) {\n",
    "    let name = document.getElementById(\"name\").value;\n",
    "    let email = document.getElementById(\"email\").value;\n",
    "\n",
    "    if (name.length < 3) {\n",
    "        alert(\"Name must be at least 3 characters long.\");\n",
    "        event.preventDefault(); // Prevent form submission\n",
    "    }\n",
    "\n",
    "    let emailPattern = /^[a-zA-Z0-9._%+-]+@[a-zA-Z0-9.-]+\\\\.[a-zA-Z]{2,}$/;\n",
    "    if (!emailPattern.test(email)) {\n",
    "        alert(\"Enter a valid email address.\");\n",
    "        event.preventDefault();\n",
    "    }\n",
    "});\n"
   ]
  },
  {
   "cell_type": "markdown",
   "metadata": {},
   "source": [
    "- Prevents submission if input doesn't match validation rules.\n",
    "- Uses Regular Expressions (Regex) to validate email format.\n",
    "- Alerts the user if incorrect input is detected."
   ]
  },
  {
   "cell_type": "markdown",
   "metadata": {},
   "source": [
    "3. The Document Object Model (DOM)\n",
    "The DOM is an interface that allows JavaScript to access, modify, and interact with HTML elements dynamically.\n",
    "\n",
    "Key DOM Methods for Input/Output: \n",
    "| Method                          | Description                                      |\n",
    "|---------------------------------|--------------------------------------------------|\n",
    "| `document.getElementById(id)`   | Selects an element by its ID.                   |\n",
    "| `document.querySelector(selector)` | Selects the first matching element.         |\n",
    "| `document.querySelectorAll(selector)` | Selects all matching elements.        |\n",
    "| `element.innerHTML`             | Modifies or retrieves the content inside an element. |\n",
    "| `element.textContent`           | Similar to `innerHTML` but excludes HTML formatting. |\n",
    "| `element.value`                 | Gets or sets the value of an input field.       |\n"
   ]
  },
  {
   "cell_type": "markdown",
   "metadata": {},
   "source": [
    "### 4. Handling User Input Using JavaScript and the DOM\n",
    "\n",
    "JavaScript can capture and process user input in real-time."
   ]
  },
  {
   "cell_type": "code",
   "execution_count": null,
   "metadata": {
    "vscode": {
     "languageId": "html"
    }
   },
   "outputs": [],
   "source": [
    "<!--Displaying User Input on the Page-->\n",
    "\n",
    "<input type=\"text\" id=\"username\" placeholder=\"Enter your name\">\n",
    "<button onclick=\"displayMessage()\">Submit</button>\n",
    "<p id=\"message\"></p>\n",
    "\n",
    "<script>\n",
    "    function displayMessage() {\n",
    "        let userInput = document.getElementById(\"username\").value;\n",
    "        document.getElementById(\"message\").textContent = \"Hello, \" + userInput + \"!\";\n",
    "    }\n",
    "</script>\n"
   ]
  },
  {
   "cell_type": "markdown",
   "metadata": {},
   "source": [
    "Explanation:\n",
    "- The user types a name in the input box.\n",
    "- When the button is clicked, displayMessage() runs.\n",
    "- JavaScript retrieves the input value and updates the <p> tag dynamically.\n"
   ]
  },
  {
   "cell_type": "markdown",
   "metadata": {},
   "source": [
    "### 5. DOM Manipulation for Interactive Input/Output\n"
   ]
  },
  {
   "cell_type": "code",
   "execution_count": null,
   "metadata": {
    "vscode": {
     "languageId": "html"
    }
   },
   "outputs": [],
   "source": [
    "<!--Changing Styles Based on User Input-->>\n",
    "\n",
    "<input type=\"text\" id=\"colorInput\" placeholder=\"Enter a color (red, blue, etc.)\">\n",
    "<button onclick=\"changeColor()\">Change Background</button>\n",
    "\n",
    "<script>\n",
    "    function changeColor() {\n",
    "        let color = document.getElementById(\"colorInput\").value;\n",
    "        document.body.style.backgroundColor = color;\n",
    "    }\n",
    "</script>\n"
   ]
  },
  {
   "cell_type": "markdown",
   "metadata": {},
   "source": [
    "- The user enters a color name.\n",
    "- JavaScript changes the background color of the page dynamically."
   ]
  },
  {
   "cell_type": "markdown",
   "metadata": {},
   "source": [
    "### 6. Advanced Input Handling with Event Listeners\n",
    "\n",
    "Event listeners capture user actions like clicking, typing, and submitting forms."
   ]
  },
  {
   "cell_type": "code",
   "execution_count": null,
   "metadata": {
    "vscode": {
     "languageId": "html"
    }
   },
   "outputs": [],
   "source": [
    "<!--Live Character Count for Input-->\n",
    "\n",
    "<textarea id=\"textArea\" placeholder=\"Type something...\" maxlength=\"100\"></textarea>\n",
    "<p>Characters Left: <span id=\"charCount\">100</span></p>\n",
    "\n",
    "<script>\n",
    "    document.getElementById(\"textArea\").addEventListener(\"input\", function() {\n",
    "        let maxLength = 100;\n",
    "        let currentLength = this.value.length;\n",
    "        document.getElementById(\"charCount\").textContent = maxLength - currentLength;\n",
    "    });\n",
    "</script>\n"
   ]
  },
  {
   "cell_type": "markdown",
   "metadata": {},
   "source": [
    "- The input event listens for typing inside the textarea.\n",
    "- The remaining character count updates dynamically.\n"
   ]
  },
  {
   "cell_type": "markdown",
   "metadata": {},
   "source": [
    "### 7. Fetching Data for Output (AJAX & Fetch API)\n",
    "JavaScript can fetch and display external data using AJAX or Fetch API."
   ]
  },
  {
   "cell_type": "code",
   "execution_count": null,
   "metadata": {
    "vscode": {
     "languageId": "html"
    }
   },
   "outputs": [],
   "source": [
    "<!--Fetching JSON Data from an API-->\n",
    "\n",
    "<button onclick=\"fetchData()\">Get Random Joke</button>\n",
    "<p id=\"joke\"></p>\n",
    "\n",
    "<script>\n",
    "    function fetchData() {\n",
    "        fetch(\"https://official-joke-api.appspot.com/random_joke\")\n",
    "        .then(response => response.json())\n",
    "        .then(data => {\n",
    "            document.getElementById(\"joke\").textContent = data.setup + \" - \" + data.punchline;\n",
    "        })\n",
    "        .catch(error => console.log(\"Error:\", error));\n",
    "    }\n",
    "</script>\n"
   ]
  },
  {
   "cell_type": "markdown",
   "metadata": {},
   "source": [
    "- Fetches a random joke from an API.\n",
    "- Displays the joke dynamically when the button is clicked.\n"
   ]
  }
 ],
 "metadata": {
  "kernelspec": {
   "display_name": "Python 3",
   "language": "python",
   "name": "python3"
  },
  "language_info": {
   "codemirror_mode": {
    "name": "ipython",
    "version": 3
   },
   "file_extension": ".py",
   "mimetype": "text/x-python",
   "name": "python",
   "nbconvert_exporter": "python",
   "pygments_lexer": "ipython3",
   "version": "3.11.9"
  }
 },
 "nbformat": 4,
 "nbformat_minor": 2
}
