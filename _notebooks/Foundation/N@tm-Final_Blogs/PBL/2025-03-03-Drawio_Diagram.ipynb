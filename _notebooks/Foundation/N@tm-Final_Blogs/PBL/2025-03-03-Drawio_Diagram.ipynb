{
 "cells": [
  {
   "cell_type": "raw",
   "metadata": {
    "vscode": {
     "languageId": "raw"
    }
   },
   "source": [
    "---\n",
    "layout: post\n",
    "title: Draw Io Diagram\n",
    "description: A DrawIoDiagram for the platformer game\n",
    "categories: [PBL]\n",
    "permalink: /PBL-Blogs/drawiodiagram\n",
    "author: Ethan Wong\n",
    "toc: true\n",
    "comments: true\n",
    "sticky_rank: 8\n",
    "---"
   ]
  },
  {
   "cell_type": "markdown",
   "metadata": {
    "vscode": {
     "languageId": "html"
    }
   },
   "source": [
    "![Platformer Diagram]({{\"/images/PlatformerDrawio.png\"|relative_url}})"
   ]
  }
 ],
 "metadata": {
  "kernelspec": {
   "display_name": "Python 3",
   "language": "python",
   "name": "python3"
  },
  "language_info": {
   "name": "python",
   "version": "3.11.9"
  }
 },
 "nbformat": 4,
 "nbformat_minor": 2
}
