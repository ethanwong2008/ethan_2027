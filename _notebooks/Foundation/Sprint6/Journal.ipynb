{
 "cells": [
  {
   "attachments": {},
   "cell_type": "raw",
   "metadata": {
    "vscode": {
     "languageId": "raw"
    }
   },
   "source": [
    "---\n",
    "toc: true\n",
    "layout: post\n",
    "title: Sprint 6 Journal\n",
    "description: Documentation of all my changes\n",
    "menu: nav/game_intro.html\n",
    "permalink: /game/blog/journal\n",
    "---\n"
   ]
  },
  {
   "cell_type": "markdown",
   "metadata": {},
   "source": [
    "### Week 18\n",
    "- Worked on remodeling the level. \n",
    "- Created multiple pathways for the player to navigate the level.\n",
    "- Changed the sprite of the lucky block to a key and the pipe to a door\n",
    "- Worked on the hack notebook for our lesson on eneimes and collisons.\n",
    "- Next week we want to clean up the level, add bounus for collecting all the coins, or defeating all the enemies. \n",
    "\n",
    "![First Level](./images/firstlevel.png)"
   ]
  }
 ],
 "metadata": {
  "kernelspec": {
   "display_name": "base",
   "language": "python",
   "name": "python3"
  },
  "language_info": {
   "codemirror_mode": {
    "name": "ipython",
    "version": 3
   },
   "file_extension": ".py",
   "mimetype": "text/x-python",
   "name": "python",
   "nbconvert_exporter": "python",
   "pygments_lexer": "ipython3",
   "version": "3.12.5"
  },
  "orig_nbformat": 4
 },
 "nbformat": 4,
 "nbformat_minor": 2
}
