{
 "cells": [
  {
   "attachments": {},
   "cell_type": "raw",
   "metadata": {
    "vscode": {
     "languageId": "raw"
    }
   },
   "source": [
    "---\n",
    "toc: true\n",
    "layout: post\n",
    "title: Sprint 6 Journal\n",
    "description: Documentation of all my changes\n",
    "menu: nav/game_intro.html\n",
    "permalink: /csse/javascript/fundamentals/journal/blog/\n",
    "---\n"
   ]
  },
  {
   "cell_type": "markdown",
   "metadata": {},
   "source": [
    "### Week 18\n",
    "- Worked on remodeling the level. \n",
    "- Created multiple pathways for the player to navigate the level.\n",
    "- Changed the sprite of the lucky block to a key and the pipe to a door\n",
    "![First Level](firstlevel.png)\n",
    "- Worked on the hack notebook for our lesson on eneimes and collisons.\n",
    "![Hacks Notebook](hacks.png)\n",
    "- Next week we want to clean up the level, add bounus for collecting all the coins, or defeating all the enemies. \n",
    "\n"
   ]
  },
  {
   "cell_type": "markdown",
   "metadata": {},
   "source": [
    "## Week 19\n",
    "\n",
    "- My job was to make the level more of a challenge for the player.\n",
    "    - I made multiple paths for the player to transverse the map.\n",
    "- Cleaned up the level\n",
    "    - Removed the gaps between the blocks\n",
    "    - Adding more blocks for the player\n",
    "    - Changing the positions of the sprites\n",
    "\n",
    "![](firstlevel1.png)\n",
    "\n",
    "- Assisted in the creation of the burndown plan for the following weeks.\n",
    "- Started on a trash and trash can system\n",
    "    - Player collects trash sprites around the map and places them in a trash can\n",
    "    - Collecting all the trash provides the player with a powerup or boost\n",
    "    - ex. Size boost(No more speed boost)\n",
    "\n",
    "    ![](trashbin.png)\n",
    "\n",
    "    ![](trashbag.png)"
   ]
  },
  {
   "cell_type": "raw",
   "metadata": {},
   "source": []
  }
 ],
 "metadata": {
  "kernelspec": {
   "display_name": "base",
   "language": "python",
   "name": "python3"
  },
  "language_info": {
   "codemirror_mode": {
    "name": "ipython",
    "version": 3
   },
   "file_extension": ".py",
   "mimetype": "text/x-python",
   "name": "python",
   "nbconvert_exporter": "python",
   "pygments_lexer": "ipython3",
   "version": "3.12.5"
  },
  "orig_nbformat": 4
 },
 "nbformat": 4,
 "nbformat_minor": 2
}
