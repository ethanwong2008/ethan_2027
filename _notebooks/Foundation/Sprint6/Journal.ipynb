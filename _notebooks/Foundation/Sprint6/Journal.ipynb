{
 "cells": [
  {
   "attachments": {},
   "cell_type": "raw",
   "metadata": {
    "vscode": {
     "languageId": "raw"
    }
   },
   "source": [
    "---\n",
    "toc: true\n",
    "layout: post\n",
    "title: Sprint 6 Journal\n",
    "description: Documentation of all my changes\n",
    "menu: nav/game_intro.html\n",
    "permalink: /csse/javascript/fundamentals/journal/blog/\n",
    "---\n"
   ]
  },
  {
   "cell_type": "markdown",
   "metadata": {},
   "source": [
    "### Week 18\n",
    "- Worked on remodeling the level. \n",
    "- Created multiple pathways for the player to navigate the level.\n",
    "- Changed the sprite of the lucky block to a key and the pipe to a door\n",
    "![First Level](firstlevel.png)\n",
    "- Worked on the hack notebook for our lesson on eneimes and collisons.\n",
    "![Hacks Notebook](hacks.png)\n",
    "- Next week we want to clean up the level, add bounus for collecting all the coins, or defeating all the enemies. \n",
    "\n"
   ]
  },
  {
   "cell_type": "markdown",
   "metadata": {},
   "source": [
    "## Week 19\n",
    "\n",
    "- My job was to make the level more of a challenge for the player.\n",
    "    - I made multiple paths for the player to transverse the map.\n",
    "- Cleaned up the level\n",
    "    - Removed the gaps between the blocks\n",
    "    - Adding more blocks for the player\n",
    "    - Changing the positions of the sprites\n",
    "\n",
    "![](firstlevel1.png)\n",
    "\n",
    "- Assisted in the creation of the burndown plan for the following weeks.\n",
    "- Started on a trash and trash can system\n",
    "    - Player collects trash sprites around the map and places them in a trash can\n",
    "    - Collecting all the trash provides the player with a powerup or boost\n",
    "    - ex. Size boost(No more speed boost)\n",
    "\n",
    "    ![](trashbin.png)\n",
    "\n",
    "    ![](trashbag.png)"
   ]
  },
  {
   "cell_type": "markdown",
   "metadata": {},
   "source": [
    "## Week 20 \n",
    "\n",
    "- Chose to stay with the platformer game instead of the RPG game\n",
    "- Group task is to fix the platformer game\n",
    "    - Clean up some levels\n",
    "    - Delete some unnecessary levels\n",
    "    - Remodel levels\n",
    "    - Add new features\n",
    "- I changed the winter level to a more nature theme level\n",
    "    - Change sprites to cavemen\n",
    "    - Added trash sprites and trashcan sprites\n",
    "        - Had trouble with the trash because of coin class\n",
    "        - Coin class was orienting the trash werid\n",
    "        - Made it finsihline class for the time being because of no orientation\n",
    "    - Changed exit to cave\n",
    "    - Changed background\n",
    "- Plan to update the trash collison logic so the player can \"throw\" the trash away\n",
    "    - The player has to collect the trash and throw it away in order to exit level.\n",
    "\n",
    "    ![](originalwinter.png)\n",
    "    ![](newwinter.png)"
   ]
  },
  {
   "cell_type": "markdown",
   "metadata": {},
   "source": [
    "## Week 21  \n",
    "\n",
    "This week, I focused on enhancing the Quidditch-themed platformer level by working on the alternate ending logic and improving the overall visual appeal of the level. Here's a breakdown of what I accomplished:  \n",
    "\n",
    "- **Worked on the alternate ending logic for the Quidditch level:**  \n",
    "    - Set up the base for the alternate ending logic, laying the groundwork for multiple outcomes depending on player actions.  \n",
    "    - Integrated the wand as a key progression item that influences the alternate ending. This involved adding the wand to the game world and ensuring it interacts seamlessly with other elements.  \n",
    "    - Completed the logic for when the Player collides with the wand. Upon collision, the game now triggers the alternate ending sequence, which adds a layer of depth and replayability to the level. I also made sure to handle edge cases to ensure a smooth player experience.  \n",
    "\n",
    "- **Remodeled the level to enhance visual appeal:**  \n",
    "    - Made adjustments to the layout and design of platforms and obstacles to create a more immersive environment.  \n",
    "    - Improved the background and foreground elements, making the Quidditch setting more vivid and engaging.  \n",
    "    - Ensured that all changes maintained a cohesive style while also enhancing player navigation and experience.  \n",
    "\n",
    "- **Plan for next week:**  \n",
    "    - Continue working on the alternate ending logic, fine-tuning the sequence and ensuring all scenarios are accounted for. This includes testing different player choices and their consequences.  \n",
    "    - Assist any team members who need help with their levels. I aim to provide support in logic implementation, debugging, or design improvements, ensuring our overall project stays on track.  \n",
    "    - Begin initial playtesting for the Quidditch level to gather feedback on gameplay mechanics, visual elements, and the effectiveness of the alternate ending logic. This will help me identify areas that need further refinement.  \n",
    "\n",
    "    ![](wand.png)\n",
    "\n",
    "    ![](quidditch.png)\n"
   ]
  }
 ],
 "metadata": {
  "kernelspec": {
   "display_name": "base",
   "language": "python",
   "name": "python3"
  },
  "language_info": {
   "codemirror_mode": {
    "name": "ipython",
    "version": 3
   },
   "file_extension": ".py",
   "mimetype": "text/x-python",
   "name": "python",
   "nbconvert_exporter": "python",
   "pygments_lexer": "ipython3",
   "version": "3.12.5"
  },
  "orig_nbformat": 4
 },
 "nbformat": 4,
 "nbformat_minor": 2
}
