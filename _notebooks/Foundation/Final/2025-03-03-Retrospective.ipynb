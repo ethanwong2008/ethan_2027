{
 "cells": [
  {
   "cell_type": "raw",
   "metadata": {
    "vscode": {
     "languageId": "raw"
    }
   },
   "source": [
    "---\n",
    "comments: true\n",
    "layout: post\n",
    "title: Retrospective\n",
    "author: Ethan Wong\n",
    "permalink: /notebooks/Final_Blogs/retrospective\n",
    "category: [ Final Blogs ]\n",
    "type: ccc\n",
    "---"
   ]
  },
  {
   "cell_type": "markdown",
   "metadata": {},
   "source": [
    "# Retrospective\n",
    "\n",
    "### **1. Taking Extreme Interests in Other Projects and People (N@tM Reviews, Chronicle, Personalization)**  \n",
    "- One project that stood out to me was Aneesh's Adventure game.  \n",
    "- Aneesh added a level where players simulate a fight with a demon, which I found incredibly creative and engaging.  \n",
    "- The level had a unique design, with an interesting combat system that required strategy and quick thinking.  \n",
    "- I liked how the mechanics were well thought out, making the battle feel dynamic and immersive.  \n",
    "- The visuals and animations added to the experience, making the fight feel more intense and exciting.  \n",
    "- This level reminded me of Pokémon, which is probably why I liked it so much.  \n",
    "  - The turn-based combat mechanics and enemy interactions felt similar to Pokémon battles.  \n",
    "  - The way the demon had its attack patterns and strategies made it feel like a true boss fight.  \n",
    "- I appreciated the effort Aneesh put into balancing the level, making it both challenging and fun.  \n",
    "- Overall, I found this project inspiring and well-executed, and it made me think about how I can incorporate similar elements into my projects.  \n",
    "\n",
    " \n",
    "![Image](https://github.com/user-attachments/assets/7f288767-5c7d-47d5-a638-27a10c5b465c)\n",
    "\n",
    "---\n",
    "### 2. Future Plans in Computer Science\n",
    "- I plan to take AP Computer Science Principles (CSP) next year to develop my coding and problem-solving skills further.  \n",
    "- I am considering majoring in Computer Science because I enjoy programming and problem-solving.  \n",
    "- There are many exciting career paths in Computer Science, including software development, artificial intelligence, and cybersecurity.  \n",
    "- I want to gain hands-on experience through internships.  \n",
    "  - My dad’s workplace has internship opportunities that I might sign up for.  \n",
    "  - This would help me apply what I’ve learned in a real-world setting and explore different areas of the field.  \n",
    "\n",
    "---\n",
    "\n",
    "### 3. Reflection on Individual Strengths and Weaknesses\n",
    "**Strengths**  \n",
    "- Strong project planning and organization skills.  \n",
    "  - I can break down complex tasks into manageable steps.  \n",
    "  - I naturally take on a leadership role in group projects.  \n",
    "  - I ensure tasks are divided efficiently, keeping everything structured.  \n",
    "- Problem-solving skills are improving, especially in structuring code logically.  \n",
    "\n",
    "**Weaknesses**  \n",
    "- Debugging complex errors can be challenging.  \n",
    "  - I need to improve my patience and problem-solving strategies when troubleshooting.  \n",
    "\n",
    "---\n",
    "\n",
    "### 4. Reflection on Project Planning and Next Steps\n",
    "**Strengths**  \n",
    "- I have strong project management skills.  \n",
    "  - I always plan out what our group is going to do before we start.  \n",
    "  - Work is divided based on each person’s strengths, making the process more efficient.  \n",
    "  - This helps us stay organized and meet deadlines without stress.  \n",
    "\n",
    "---\n",
    "\n",
    "5. Sending summary of what you will be talking about 24 hours in advance of Live review in DM.\n",
    "6. Include in summary honest self grade assessment on point related topics, including reasoning.\n",
    "7. Being able to highlight all 10 points in 3 minutes of Live Review."
   ]
  }
 ],
 "metadata": {
  "language_info": {
   "name": "python"
  }
 },
 "nbformat": 4,
 "nbformat_minor": 2
}
