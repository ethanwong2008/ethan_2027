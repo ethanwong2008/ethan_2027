{
 "cells": [
  {
   "cell_type": "raw",
   "metadata": {
    "vscode": {
     "languageId": "raw"
    }
   },
   "source": [
    "---\n",
    "comments: true\n",
    "layout: post\n",
    "title: 5 Items\n",
    "author: Ethan Wong\n",
    "permalink: /notebooks/Final_Blogs/5_items\n",
    "category: [ Final Blogs ]\n",
    "type: ccc\n",
    "---"
   ]
  },
  {
   "cell_type": "markdown",
   "metadata": {},
   "source": [
    "# 5 Items  \n",
    "\n",
    "## 1. Skills Learned (VS Code, GitHub, and Coding in General)  \n",
    "- I have made a lot of progress in my coding journey.  \n",
    "- When I first joined this class in the first trimester, I knew almost nothing about coding.  \n",
    "- I had no idea how to use GitHub or VS Code.  \n",
    "- Now, I can navigate and use GitHub and VS Code easily.  \n",
    "- Over these 24 weeks, I have improved my coding skills and learned so much.  \n",
    "\n",
    "## 2. GitHub Analytics  \n",
    "- The number of commits I have made shows all the hard work I put into this class.  \n",
    "- Looking back at my commits, I can see how much I have improved and how much effort I have put into coding.  \n",
    "\n",
    "## 3. 8 Blogs  \n",
    "- I wrote a total of eight blogs about software engineering.  \n",
    "- These blogs helped me understand coding concepts better and allowed me to share what I learned.  \n",
    "- Writing them also improved my ability to explain technical topics in a simple way.  \n",
    "\n",
    "## 4. Student Lessons  \n",
    "- In the first trimester, I taught my very first coding lesson.  \n",
    "- The lesson was about variables, including booleans, strings, and arrays.  \n",
    "- I was really proud of the presentation and the grade we received.  \n",
    "- Teaching the lesson helped me build confidence and understand the topic better.  \n",
    "\n",
    "## 5. RPG Game\n",
    "- This was my very first game project.\n",
    "- I put a ton of work into this to try and make it as good as possible, learning new skills along the way.\n",
    "- Focused on creating a detailed world, a solid quest system, and meaningful character progression.\n",
    "- I was happy with how it turned out, but there's always room for improvement, and I’ve learned a lot from the experience.\n",
    "- The project helped me refine my game design skills, and in the future if I have time I would like to make it better\n",
    "\n",
    "![Image](https://github.com/user-attachments/assets/e056a957-a81a-46d8-a6a3-5f8f0f5062ea)\n"
   ]
  }
 ],
 "metadata": {
  "language_info": {
   "name": "python"
  }
 },
 "nbformat": 4,
 "nbformat_minor": 2
}
