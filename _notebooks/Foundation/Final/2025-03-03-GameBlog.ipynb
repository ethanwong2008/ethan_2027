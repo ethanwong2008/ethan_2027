{
 "cells": [
  {
   "cell_type": "raw",
   "metadata": {
    "vscode": {
     "languageId": "raw"
    }
   },
   "source": [
    "---\n",
    "comments: true\n",
    "layout: post\n",
    "title: Game Blog\n",
    "author: Ethan Wong\n",
    "permalink: /notebooks/Final_Blogs/gameblog\n",
    "category: [ Final Blogs ]\n",
    "type: ccc\n",
    "---"
   ]
  },
  {
   "cell_type": "markdown",
   "metadata": {},
   "source": [
    "# Game Feature Blog/drawIO\n",
    "\n",
    "# 1. ![Image](https://github.com/user-attachments/assets/fcadd4fe-4883-4c71-bd56-e5abac75b870)\n",
    "\n",
    "Display wandCollected and spellUsed as properties(booleans)\n",
    "---\n",
    "# 2. ![Image](https://github.com/user-attachments/assets/07afc107-87c2-4f6c-8736-7735222c3312)\n",
    "\n",
    "Set wandCollected and spellUsed as variables(set them as false for the time being)\n",
    "---\n",
    "# 3. ![Image](https://github.com/user-attachments/assets/50622546-3e23-4638-a70d-a1b3aa065885)\n",
    "\n",
    "In PlatformJump.js set wandCollected to true in handleItemBlockCollison{} when the player collects the wand.\n",
    "---\n",
    "# 4. ![Image](https://github.com/user-attachments/assets/fee8f194-d9ac-4749-afd9-d4c7ab554d73)\n",
    "\n",
    "In playerBase.js, when player presses the 'b' key spellUsed becomes true\n",
    "---\n",
    "# 5.  ![Image](https://github.com/user-attachments/assets/1a302174-aefa-49d5-aa60-bd30e5e8c82a)\n",
    "\n",
    "In playerQuidditch.js I added wandCollected = true and spellUsed = true as requirements in order for the player to exit the level"
   ]
  }
 ],
 "metadata": {
  "language_info": {
   "name": "python"
  }
 },
 "nbformat": 4,
 "nbformat_minor": 2
}
